{
 "cells": [
  {
   "cell_type": "code",
   "execution_count": 3,
   "id": "12496acc",
   "metadata": {},
   "outputs": [],
   "source": [
    "import pandas as pd\n",
    "import math\n",
    "import numpy\n",
    "from collections import Counter"
   ]
  },
  {
   "cell_type": "code",
   "execution_count": 4,
   "id": "9439bbb8",
   "metadata": {},
   "outputs": [],
   "source": [
    "## To Do: Write the entropy(label) function\n",
    "## Should find the information entropy of dataset (T) with class \"label\" i.e. Info(T)\n",
    "def entropy(label):\n",
    "\n",
    "    entropy = 0\n",
    "    #label_counts = label.value_counts()\n",
    "    labels = Counter(label) #all elements in columns\n",
    "    #print(label_counts)\n",
    "    length_label = len(label)\n",
    "    \n",
    "#     total_labels = len(labels)\n",
    "#     probabilities = labels / total_labels\n",
    "    \n",
    "    #print(probabilities)\n",
    "    \n",
    "    for i in labels:\n",
    "        prob = labels[i] / length_label\n",
    "        entropy += prob * math.log(prob, 2)\n",
    "\n",
    "    return -(entropy)\n"
   ]
  },
  {
   "cell_type": "code",
   "execution_count": 19,
   "id": "f8fb6a98",
   "metadata": {},
   "outputs": [],
   "source": [
    "## To Do: Write the information_gain(feature, label) function\n",
    "## Should find the information gain of \"feature\"(X) on dataset (T) with class \"label\" i.e. Gain(X,T)\n",
    "def information_gain(feature, label):\n",
    "    '''Will calculate the information gain from the starting root entropy based on a specific feature.\n",
    "        We start on \"INFLATED\" feature. \n",
    "    '''\n",
    "    change_in_entropy = entropy(feature) #starting entropy in the root node\n",
    "    \n",
    "    for subtrees in label:\n",
    "        change_in_entropy -= entropy(subtrees) * len(subtrees) / len(feature)\n",
    "    #print(change_in_entropy)\n",
    "    return change_in_entropy\n",
    "    "
   ]
  },
  {
   "cell_type": "code",
   "execution_count": 20,
   "id": "19e39100",
   "metadata": {},
   "outputs": [],
   "source": [
    "\n",
    "## Should split the dataset on a feature\n",
    "def split(dataset, feature):\n",
    "    all_features = dataset[feature].unique()\n",
    "    #print(\"ALL features: \" + all_features )\n",
    "    \n",
    "    left_tree = dataset[dataset[feature] == all_features[0]]\n",
    "    #print(\"all left side \" + left_tree)\n",
    "   # print(type(left_tree))\n",
    "\n",
    "    right_tree = dataset[dataset[feature] == all_features[1]]\n",
    "    #print(\"all right side \" + right_tree)\n",
    "    \n",
    "    all_split_data = [left_tree, right_tree]\n",
    "    #print(all_split_data)\n",
    "    return all_split_data\n",
    "    "
   ]
  },
  {
   "cell_type": "code",
   "execution_count": 24,
   "id": "eb5a889d",
   "metadata": {},
   "outputs": [],
   "source": [
    "\n",
    "## Should find the best feature to split the dataset on\n",
    "## Should return best_feature, best_gain\n",
    "def find_best_split(dataset, label):\n",
    "    ## TO DO: Find the best feature to split the dataset\n",
    "   \n",
    "    new_feature = list(dataset.columns)\n",
    "    print(new_feature) #starting label is not yet removed\n",
    "    best_feature = 0\n",
    "    best_gain = 0\n",
    "    #print(new_feature)\n",
    "   # print(type(new_feature))\n",
    "    new_feature.remove(label) #removes the label from given label; so that\n",
    "    #we can calculate entropy on the DF without the INFLATED column \n",
    "    print(new_feature) #starting label should be removed\n",
    "    \n",
    "    for i in new_feature:\n",
    "        all_split_data = split(dataset, i) #split data on the new features\n",
    "        #print(all_split_data)\n",
    "        new_labels = [frame[label] for frame in all_split_data]\n",
    "        #print(\"New labels \" , new_labels)\n",
    "        new_gain = information_gain(dataset[label],new_labels)\n",
    "        #print(i)\n",
    "        print(new_gain, i)\n",
    "        #print(all_split_data)\n",
    "        if best_gain < new_gain:\n",
    "            best_gain = new_gain\n",
    "            best_feature = i \n",
    "            print(best_feature, best_gain)\n",
    "    \n",
    "    \n",
    "    #return left_tree, right_tree\n",
    "    return best_feature, best_gain"
   ]
  },
  {
   "cell_type": "code",
   "execution_count": 25,
   "id": "d663879d",
   "metadata": {},
   "outputs": [
    {
     "name": "stdout",
     "output_type": "stream",
     "text": [
      "starting entropy: 0.9709505944546686\n",
      "['COLOR', 'SIZE', 'ACT', 'AGE', 'INFLATED']\n",
      "['COLOR', 'SIZE', 'ACT', 'AGE']\n",
      "0.0 COLOR\n",
      "0.0 SIZE\n",
      "0.4199730940219748 ACT\n",
      "ACT 0.4199730940219748\n",
      "0.4199730940219748 AGE\n"
     ]
    }
   ],
   "source": [
    "\n",
    "if __name__ == '__main__':\n",
    "    data = pd.read_csv('balloons.csv')\n",
    "    ent = entropy(data[\"INFLATED\"])\n",
    "    print(\"starting entropy: \" + str(ent))\n",
    "    \n",
    "    best_feature, best_gain = find_best_split(data, \"INFLATED\")\n",
    "    \n",
    "    f = open(\"output_balloons.txt\", \"w\")\n",
    "    f.write(\"The Best Feature is {} with a Gain of : {}\".format(best_feature, best_gain))\n",
    "    f.close()"
   ]
  },
  {
   "cell_type": "code",
   "execution_count": null,
   "id": "3bb4c1bc",
   "metadata": {},
   "outputs": [],
   "source": []
  },
  {
   "cell_type": "code",
   "execution_count": null,
   "id": "eadff073",
   "metadata": {},
   "outputs": [],
   "source": []
  }
 ],
 "metadata": {
  "kernelspec": {
   "display_name": "Python 3 (ipykernel)",
   "language": "python",
   "name": "python3"
  },
  "language_info": {
   "codemirror_mode": {
    "name": "ipython",
    "version": 3
   },
   "file_extension": ".py",
   "mimetype": "text/x-python",
   "name": "python",
   "nbconvert_exporter": "python",
   "pygments_lexer": "ipython3",
   "version": "3.9.15"
  }
 },
 "nbformat": 4,
 "nbformat_minor": 5
}

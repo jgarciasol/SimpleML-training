{
 "cells": [
  {
   "cell_type": "code",
   "execution_count": 144,
   "id": "0dc1511c",
   "metadata": {},
   "outputs": [],
   "source": [
    "import pandas as pd\n",
    "import numpy\n",
    "import math\n",
    "import sklearn\n",
    "from sklearn import preprocessing\n",
    "from sklearn.linear_model import LogisticRegression\n",
    "from sklearn.model_selection import train_test_split #for splitting data\n",
    "from sklearn.metrics import classification_report #For classification\n",
    "from sklearn.ensemble import RandomForestClassifier\n",
    "from sklearn.metrics import confusion_matrix\n",
    "from sklearn.svm import SVC"
   ]
  },
  {
   "cell_type": "code",
   "execution_count": 88,
   "id": "84633b6f",
   "metadata": {},
   "outputs": [],
   "source": [
    "######Performing Data Analysis and Manipulation###########"
   ]
  },
  {
   "cell_type": "code",
   "execution_count": 89,
   "id": "82185b98",
   "metadata": {},
   "outputs": [
    {
     "data": {
      "text/html": [
       "<div>\n",
       "<style scoped>\n",
       "    .dataframe tbody tr th:only-of-type {\n",
       "        vertical-align: middle;\n",
       "    }\n",
       "\n",
       "    .dataframe tbody tr th {\n",
       "        vertical-align: top;\n",
       "    }\n",
       "\n",
       "    .dataframe thead th {\n",
       "        text-align: right;\n",
       "    }\n",
       "</style>\n",
       "<table border=\"1\" class=\"dataframe\">\n",
       "  <thead>\n",
       "    <tr style=\"text-align: right;\">\n",
       "      <th></th>\n",
       "      <th>PassengerId</th>\n",
       "      <th>Survived</th>\n",
       "      <th>Pclass</th>\n",
       "      <th>Name</th>\n",
       "      <th>Sex</th>\n",
       "      <th>Age</th>\n",
       "      <th>SibSp</th>\n",
       "      <th>Parch</th>\n",
       "      <th>Ticket</th>\n",
       "      <th>Fare</th>\n",
       "      <th>Cabin</th>\n",
       "      <th>Embarked</th>\n",
       "    </tr>\n",
       "  </thead>\n",
       "  <tbody>\n",
       "    <tr>\n",
       "      <th>0</th>\n",
       "      <td>1</td>\n",
       "      <td>0</td>\n",
       "      <td>3</td>\n",
       "      <td>Braund, Mr. Owen Harris</td>\n",
       "      <td>male</td>\n",
       "      <td>22.0</td>\n",
       "      <td>1</td>\n",
       "      <td>0</td>\n",
       "      <td>A/5 21171</td>\n",
       "      <td>7.2500</td>\n",
       "      <td>NaN</td>\n",
       "      <td>S</td>\n",
       "    </tr>\n",
       "    <tr>\n",
       "      <th>1</th>\n",
       "      <td>2</td>\n",
       "      <td>1</td>\n",
       "      <td>1</td>\n",
       "      <td>Cumings, Mrs. John Bradley (Florence Briggs Th...</td>\n",
       "      <td>female</td>\n",
       "      <td>38.0</td>\n",
       "      <td>1</td>\n",
       "      <td>0</td>\n",
       "      <td>PC 17599</td>\n",
       "      <td>71.2833</td>\n",
       "      <td>C85</td>\n",
       "      <td>C</td>\n",
       "    </tr>\n",
       "    <tr>\n",
       "      <th>2</th>\n",
       "      <td>3</td>\n",
       "      <td>1</td>\n",
       "      <td>3</td>\n",
       "      <td>Heikkinen, Miss. Laina</td>\n",
       "      <td>female</td>\n",
       "      <td>26.0</td>\n",
       "      <td>0</td>\n",
       "      <td>0</td>\n",
       "      <td>STON/O2. 3101282</td>\n",
       "      <td>7.9250</td>\n",
       "      <td>NaN</td>\n",
       "      <td>S</td>\n",
       "    </tr>\n",
       "    <tr>\n",
       "      <th>3</th>\n",
       "      <td>4</td>\n",
       "      <td>1</td>\n",
       "      <td>1</td>\n",
       "      <td>Futrelle, Mrs. Jacques Heath (Lily May Peel)</td>\n",
       "      <td>female</td>\n",
       "      <td>35.0</td>\n",
       "      <td>1</td>\n",
       "      <td>0</td>\n",
       "      <td>113803</td>\n",
       "      <td>53.1000</td>\n",
       "      <td>C123</td>\n",
       "      <td>S</td>\n",
       "    </tr>\n",
       "    <tr>\n",
       "      <th>4</th>\n",
       "      <td>5</td>\n",
       "      <td>0</td>\n",
       "      <td>3</td>\n",
       "      <td>Allen, Mr. William Henry</td>\n",
       "      <td>male</td>\n",
       "      <td>35.0</td>\n",
       "      <td>0</td>\n",
       "      <td>0</td>\n",
       "      <td>373450</td>\n",
       "      <td>8.0500</td>\n",
       "      <td>NaN</td>\n",
       "      <td>S</td>\n",
       "    </tr>\n",
       "  </tbody>\n",
       "</table>\n",
       "</div>"
      ],
      "text/plain": [
       "   PassengerId  Survived  Pclass  \\\n",
       "0            1         0       3   \n",
       "1            2         1       1   \n",
       "2            3         1       3   \n",
       "3            4         1       1   \n",
       "4            5         0       3   \n",
       "\n",
       "                                                Name     Sex   Age  SibSp  \\\n",
       "0                            Braund, Mr. Owen Harris    male  22.0      1   \n",
       "1  Cumings, Mrs. John Bradley (Florence Briggs Th...  female  38.0      1   \n",
       "2                             Heikkinen, Miss. Laina  female  26.0      0   \n",
       "3       Futrelle, Mrs. Jacques Heath (Lily May Peel)  female  35.0      1   \n",
       "4                           Allen, Mr. William Henry    male  35.0      0   \n",
       "\n",
       "   Parch            Ticket     Fare Cabin Embarked  \n",
       "0      0         A/5 21171   7.2500   NaN        S  \n",
       "1      0          PC 17599  71.2833   C85        C  \n",
       "2      0  STON/O2. 3101282   7.9250   NaN        S  \n",
       "3      0            113803  53.1000  C123        S  \n",
       "4      0            373450   8.0500   NaN        S  "
      ]
     },
     "execution_count": 89,
     "metadata": {},
     "output_type": "execute_result"
    }
   ],
   "source": [
    "train_df = pd.read_csv(\"titanic_train.csv\")\n",
    "train_df.head()"
   ]
  },
  {
   "cell_type": "code",
   "execution_count": 90,
   "id": "f5f0dc43",
   "metadata": {},
   "outputs": [
    {
     "data": {
      "text/html": [
       "<div>\n",
       "<style scoped>\n",
       "    .dataframe tbody tr th:only-of-type {\n",
       "        vertical-align: middle;\n",
       "    }\n",
       "\n",
       "    .dataframe tbody tr th {\n",
       "        vertical-align: top;\n",
       "    }\n",
       "\n",
       "    .dataframe thead th {\n",
       "        text-align: right;\n",
       "    }\n",
       "</style>\n",
       "<table border=\"1\" class=\"dataframe\">\n",
       "  <thead>\n",
       "    <tr style=\"text-align: right;\">\n",
       "      <th></th>\n",
       "      <th>Unnamed: 0.2</th>\n",
       "      <th>Unnamed: 0.1</th>\n",
       "      <th>Unnamed: 0</th>\n",
       "      <th>PassengerId</th>\n",
       "      <th>Pclass</th>\n",
       "      <th>Name</th>\n",
       "      <th>Sex</th>\n",
       "      <th>Age</th>\n",
       "      <th>SibSp</th>\n",
       "      <th>Parch</th>\n",
       "      <th>Ticket</th>\n",
       "      <th>Fare</th>\n",
       "      <th>Cabin</th>\n",
       "      <th>Embarked</th>\n",
       "    </tr>\n",
       "  </thead>\n",
       "  <tbody>\n",
       "    <tr>\n",
       "      <th>0</th>\n",
       "      <td>0</td>\n",
       "      <td>0</td>\n",
       "      <td>0</td>\n",
       "      <td>892</td>\n",
       "      <td>3</td>\n",
       "      <td>Kelly, Mr. James</td>\n",
       "      <td>male</td>\n",
       "      <td>34.5</td>\n",
       "      <td>0</td>\n",
       "      <td>0</td>\n",
       "      <td>330911</td>\n",
       "      <td>7.8292</td>\n",
       "      <td>NaN</td>\n",
       "      <td>Q</td>\n",
       "    </tr>\n",
       "    <tr>\n",
       "      <th>1</th>\n",
       "      <td>1</td>\n",
       "      <td>1</td>\n",
       "      <td>1</td>\n",
       "      <td>893</td>\n",
       "      <td>3</td>\n",
       "      <td>Wilkes, Mrs. James (Ellen Needs)</td>\n",
       "      <td>female</td>\n",
       "      <td>47.0</td>\n",
       "      <td>1</td>\n",
       "      <td>0</td>\n",
       "      <td>363272</td>\n",
       "      <td>7.0000</td>\n",
       "      <td>NaN</td>\n",
       "      <td>S</td>\n",
       "    </tr>\n",
       "    <tr>\n",
       "      <th>2</th>\n",
       "      <td>2</td>\n",
       "      <td>2</td>\n",
       "      <td>2</td>\n",
       "      <td>894</td>\n",
       "      <td>2</td>\n",
       "      <td>Myles, Mr. Thomas Francis</td>\n",
       "      <td>male</td>\n",
       "      <td>62.0</td>\n",
       "      <td>0</td>\n",
       "      <td>0</td>\n",
       "      <td>240276</td>\n",
       "      <td>9.6875</td>\n",
       "      <td>NaN</td>\n",
       "      <td>Q</td>\n",
       "    </tr>\n",
       "    <tr>\n",
       "      <th>3</th>\n",
       "      <td>3</td>\n",
       "      <td>3</td>\n",
       "      <td>3</td>\n",
       "      <td>895</td>\n",
       "      <td>3</td>\n",
       "      <td>Wirz, Mr. Albert</td>\n",
       "      <td>male</td>\n",
       "      <td>27.0</td>\n",
       "      <td>0</td>\n",
       "      <td>0</td>\n",
       "      <td>315154</td>\n",
       "      <td>8.6625</td>\n",
       "      <td>NaN</td>\n",
       "      <td>S</td>\n",
       "    </tr>\n",
       "    <tr>\n",
       "      <th>4</th>\n",
       "      <td>4</td>\n",
       "      <td>4</td>\n",
       "      <td>4</td>\n",
       "      <td>896</td>\n",
       "      <td>3</td>\n",
       "      <td>Hirvonen, Mrs. Alexander (Helga E Lindqvist)</td>\n",
       "      <td>female</td>\n",
       "      <td>22.0</td>\n",
       "      <td>1</td>\n",
       "      <td>1</td>\n",
       "      <td>3101298</td>\n",
       "      <td>12.2875</td>\n",
       "      <td>NaN</td>\n",
       "      <td>S</td>\n",
       "    </tr>\n",
       "  </tbody>\n",
       "</table>\n",
       "</div>"
      ],
      "text/plain": [
       "   Unnamed: 0.2  Unnamed: 0.1  Unnamed: 0  PassengerId  Pclass  \\\n",
       "0             0             0           0          892       3   \n",
       "1             1             1           1          893       3   \n",
       "2             2             2           2          894       2   \n",
       "3             3             3           3          895       3   \n",
       "4             4             4           4          896       3   \n",
       "\n",
       "                                           Name     Sex   Age  SibSp  Parch  \\\n",
       "0                              Kelly, Mr. James    male  34.5      0      0   \n",
       "1              Wilkes, Mrs. James (Ellen Needs)  female  47.0      1      0   \n",
       "2                     Myles, Mr. Thomas Francis    male  62.0      0      0   \n",
       "3                              Wirz, Mr. Albert    male  27.0      0      0   \n",
       "4  Hirvonen, Mrs. Alexander (Helga E Lindqvist)  female  22.0      1      1   \n",
       "\n",
       "    Ticket     Fare Cabin Embarked  \n",
       "0   330911   7.8292   NaN        Q  \n",
       "1   363272   7.0000   NaN        S  \n",
       "2   240276   9.6875   NaN        Q  \n",
       "3   315154   8.6625   NaN        S  \n",
       "4  3101298  12.2875   NaN        S  "
      ]
     },
     "execution_count": 90,
     "metadata": {},
     "output_type": "execute_result"
    }
   ],
   "source": [
    "test_df = pd.read_csv(\"titanic_test.csv\")\n",
    "test_df.head()"
   ]
  },
  {
   "cell_type": "code",
   "execution_count": 91,
   "id": "c5296824",
   "metadata": {},
   "outputs": [],
   "source": [
    "test_df = test_df.drop(columns=['Name', 'Ticket','Cabin','PassengerId'])\n"
   ]
  },
  {
   "cell_type": "code",
   "execution_count": 92,
   "id": "c275aed1",
   "metadata": {},
   "outputs": [],
   "source": [
    "\n",
    "train_df = train_df.drop(columns=['Name', 'Ticket','Cabin','PassengerId'])"
   ]
  },
  {
   "cell_type": "code",
   "execution_count": null,
   "id": "e5f078a8",
   "metadata": {},
   "outputs": [],
   "source": []
  },
  {
   "cell_type": "code",
   "execution_count": 93,
   "id": "32a7ec75",
   "metadata": {},
   "outputs": [
    {
     "name": "stdout",
     "output_type": "stream",
     "text": [
      "<class 'pandas.core.frame.DataFrame'>\n",
      "RangeIndex: 418 entries, 0 to 417\n",
      "Data columns (total 10 columns):\n",
      " #   Column        Non-Null Count  Dtype  \n",
      "---  ------        --------------  -----  \n",
      " 0   Unnamed: 0.2  418 non-null    int64  \n",
      " 1   Unnamed: 0.1  418 non-null    int64  \n",
      " 2   Unnamed: 0    418 non-null    int64  \n",
      " 3   Pclass        418 non-null    int64  \n",
      " 4   Sex           418 non-null    object \n",
      " 5   Age           332 non-null    float64\n",
      " 6   SibSp         418 non-null    int64  \n",
      " 7   Parch         418 non-null    int64  \n",
      " 8   Fare          417 non-null    float64\n",
      " 9   Embarked      418 non-null    object \n",
      "dtypes: float64(2), int64(6), object(2)\n",
      "memory usage: 32.8+ KB\n"
     ]
    }
   ],
   "source": [
    "test_df.info()"
   ]
  },
  {
   "cell_type": "code",
   "execution_count": 94,
   "id": "6e4f124b",
   "metadata": {},
   "outputs": [
    {
     "name": "stdout",
     "output_type": "stream",
     "text": [
      "<class 'pandas.core.frame.DataFrame'>\n",
      "RangeIndex: 891 entries, 0 to 890\n",
      "Data columns (total 8 columns):\n",
      " #   Column    Non-Null Count  Dtype  \n",
      "---  ------    --------------  -----  \n",
      " 0   Survived  891 non-null    int64  \n",
      " 1   Pclass    891 non-null    int64  \n",
      " 2   Sex       891 non-null    object \n",
      " 3   Age       714 non-null    float64\n",
      " 4   SibSp     891 non-null    int64  \n",
      " 5   Parch     891 non-null    int64  \n",
      " 6   Fare      891 non-null    float64\n",
      " 7   Embarked  889 non-null    object \n",
      "dtypes: float64(2), int64(4), object(2)\n",
      "memory usage: 55.8+ KB\n"
     ]
    }
   ],
   "source": [
    "train_df.info()"
   ]
  },
  {
   "cell_type": "code",
   "execution_count": 95,
   "id": "9084926f",
   "metadata": {},
   "outputs": [],
   "source": [
    "label_encoder = preprocessing.LabelEncoder()\n",
    "\n",
    "#changing Sex, a categorical variable, into a numeric one\n",
    "train_df[\"Sex\"] = label_encoder.fit_transform(train_df[\"Sex\"])"
   ]
  },
  {
   "cell_type": "code",
   "execution_count": 96,
   "id": "54228d72",
   "metadata": {},
   "outputs": [],
   "source": [
    "#changing Embarked into a numeric variable as well\n",
    "train_df[\"Embarked\"] = label_encoder.fit_transform(train_df[\"Embarked\"])"
   ]
  },
  {
   "cell_type": "code",
   "execution_count": 97,
   "id": "769f87a5",
   "metadata": {},
   "outputs": [
    {
     "name": "stdout",
     "output_type": "stream",
     "text": [
      "<class 'pandas.core.frame.DataFrame'>\n",
      "RangeIndex: 891 entries, 0 to 890\n",
      "Data columns (total 8 columns):\n",
      " #   Column    Non-Null Count  Dtype  \n",
      "---  ------    --------------  -----  \n",
      " 0   Survived  891 non-null    int64  \n",
      " 1   Pclass    891 non-null    int64  \n",
      " 2   Sex       891 non-null    int64  \n",
      " 3   Age       714 non-null    float64\n",
      " 4   SibSp     891 non-null    int64  \n",
      " 5   Parch     891 non-null    int64  \n",
      " 6   Fare      891 non-null    float64\n",
      " 7   Embarked  891 non-null    int64  \n",
      "dtypes: float64(2), int64(6)\n",
      "memory usage: 55.8 KB\n"
     ]
    }
   ],
   "source": [
    "train_df.info() #showing the new numeric variables"
   ]
  },
  {
   "cell_type": "code",
   "execution_count": null,
   "id": "732b581e",
   "metadata": {},
   "outputs": [],
   "source": []
  },
  {
   "cell_type": "code",
   "execution_count": 98,
   "id": "cf94f9ff",
   "metadata": {},
   "outputs": [],
   "source": [
    "#changing categorical to numeric\n",
    "\n",
    "test_df[\"Sex\"] = label_encoder.fit_transform(test_df[\"Sex\"])"
   ]
  },
  {
   "cell_type": "code",
   "execution_count": 99,
   "id": "1cff4c7f",
   "metadata": {},
   "outputs": [],
   "source": [
    "test_df[\"Embarked\"] = label_encoder.fit_transform(test_df[\"Embarked\"])"
   ]
  },
  {
   "cell_type": "code",
   "execution_count": 100,
   "id": "5cf550ee",
   "metadata": {},
   "outputs": [
    {
     "name": "stdout",
     "output_type": "stream",
     "text": [
      "<class 'pandas.core.frame.DataFrame'>\n",
      "RangeIndex: 418 entries, 0 to 417\n",
      "Data columns (total 10 columns):\n",
      " #   Column        Non-Null Count  Dtype  \n",
      "---  ------        --------------  -----  \n",
      " 0   Unnamed: 0.2  418 non-null    int64  \n",
      " 1   Unnamed: 0.1  418 non-null    int64  \n",
      " 2   Unnamed: 0    418 non-null    int64  \n",
      " 3   Pclass        418 non-null    int64  \n",
      " 4   Sex           418 non-null    int64  \n",
      " 5   Age           332 non-null    float64\n",
      " 6   SibSp         418 non-null    int64  \n",
      " 7   Parch         418 non-null    int64  \n",
      " 8   Fare          417 non-null    float64\n",
      " 9   Embarked      418 non-null    int64  \n",
      "dtypes: float64(2), int64(8)\n",
      "memory usage: 32.8 KB\n"
     ]
    }
   ],
   "source": [
    "test_df.info() #showing test numeric variables"
   ]
  },
  {
   "cell_type": "code",
   "execution_count": 101,
   "id": "578e439f",
   "metadata": {},
   "outputs": [
    {
     "data": {
      "text/plain": [
       "Survived      0\n",
       "Pclass        0\n",
       "Sex           0\n",
       "Age         177\n",
       "SibSp         0\n",
       "Parch         0\n",
       "Fare          0\n",
       "Embarked      0\n",
       "dtype: int64"
      ]
     },
     "execution_count": 101,
     "metadata": {},
     "output_type": "execute_result"
    }
   ],
   "source": [
    "\n",
    "#####I'm not sure why train_df is giving me 0 NA's for Embarked.\n",
    "#####I looked through the data and I can see at least two NA's. \n",
    "#####I saw https://stackoverflow.com/questions/64113415/df-isna-sum-is-not-working-on-titanic-dataset\n",
    "#####with the same issue, and I could not get it resolved. \n",
    "\n",
    "train_df.isna().sum()\n",
    "\n"
   ]
  },
  {
   "cell_type": "code",
   "execution_count": 102,
   "id": "66b84988",
   "metadata": {},
   "outputs": [
    {
     "data": {
      "text/plain": [
       "Survived    0\n",
       "Pclass      0\n",
       "Sex         0\n",
       "Age         0\n",
       "SibSp       0\n",
       "Parch       0\n",
       "Fare        0\n",
       "Embarked    0\n",
       "dtype: int64"
      ]
     },
     "execution_count": 102,
     "metadata": {},
     "output_type": "execute_result"
    }
   ],
   "source": [
    "train_df[\"Embarked\"] = train_df[\"Embarked\"].fillna(test_df[\"Embarked\"].median())\n",
    "\n",
    "train_df[\"Age\"] = train_df[\"Age\"].fillna(train_df[\"Age\"].median())\n",
    "\n",
    "train_df.isna().sum()"
   ]
  },
  {
   "cell_type": "code",
   "execution_count": 103,
   "id": "90a92c18",
   "metadata": {},
   "outputs": [
    {
     "data": {
      "text/plain": [
       "Unnamed: 0.2     0\n",
       "Unnamed: 0.1     0\n",
       "Unnamed: 0       0\n",
       "Pclass           0\n",
       "Sex              0\n",
       "Age             86\n",
       "SibSp            0\n",
       "Parch            0\n",
       "Fare             1\n",
       "Embarked         0\n",
       "dtype: int64"
      ]
     },
     "execution_count": 103,
     "metadata": {},
     "output_type": "execute_result"
    }
   ],
   "source": [
    "test_df.isna().sum()"
   ]
  },
  {
   "cell_type": "code",
   "execution_count": 104,
   "id": "d1dbb78b",
   "metadata": {},
   "outputs": [],
   "source": [
    "test_df[\"Age\"] = test_df[\"Age\"].fillna(test_df[\"Age\"].median())"
   ]
  },
  {
   "cell_type": "code",
   "execution_count": 105,
   "id": "a5e014f9",
   "metadata": {},
   "outputs": [],
   "source": [
    "test_df[\"Fare\"] = test_df[\"Fare\"].fillna(test_df[\"Fare\"].median())"
   ]
  },
  {
   "cell_type": "code",
   "execution_count": 106,
   "id": "31a78dc0",
   "metadata": {},
   "outputs": [
    {
     "data": {
      "text/plain": [
       "Unnamed: 0.2    0\n",
       "Unnamed: 0.1    0\n",
       "Unnamed: 0      0\n",
       "Pclass          0\n",
       "Sex             0\n",
       "Age             0\n",
       "SibSp           0\n",
       "Parch           0\n",
       "Fare            0\n",
       "Embarked        0\n",
       "dtype: int64"
      ]
     },
     "execution_count": 106,
     "metadata": {},
     "output_type": "execute_result"
    }
   ],
   "source": [
    "test_df.isna().sum()"
   ]
  },
  {
   "cell_type": "code",
   "execution_count": 107,
   "id": "d636698b",
   "metadata": {},
   "outputs": [],
   "source": [
    "#Used to predict our independent variable\n",
    "\n",
    "independent_cols = [\"Pclass\", \"Sex\", \"Age\"]"
   ]
  },
  {
   "cell_type": "code",
   "execution_count": 108,
   "id": "24460700",
   "metadata": {},
   "outputs": [],
   "source": [
    "X = train_df[independent_cols]"
   ]
  },
  {
   "cell_type": "code",
   "execution_count": 109,
   "id": "037b58ee",
   "metadata": {},
   "outputs": [],
   "source": [
    "Y = train_df.Survived"
   ]
  },
  {
   "cell_type": "code",
   "execution_count": 110,
   "id": "80a63e1b",
   "metadata": {},
   "outputs": [
    {
     "name": "stdout",
     "output_type": "stream",
     "text": [
      "0      0\n",
      "1      1\n",
      "2      1\n",
      "3      1\n",
      "4      0\n",
      "      ..\n",
      "886    0\n",
      "887    1\n",
      "888    0\n",
      "889    1\n",
      "890    0\n",
      "Name: Survived, Length: 891, dtype: int64\n"
     ]
    }
   ],
   "source": [
    "print(Y) #our target variable. 1 = Survived; 0 = Not Survived"
   ]
  },
  {
   "cell_type": "code",
   "execution_count": 111,
   "id": "cf5fb53d",
   "metadata": {},
   "outputs": [
    {
     "name": "stdout",
     "output_type": "stream",
     "text": [
      "     Pclass  Sex   Age\n",
      "0         3    1  22.0\n",
      "1         1    0  38.0\n",
      "2         3    0  26.0\n",
      "3         1    0  35.0\n",
      "4         3    1  35.0\n",
      "..      ...  ...   ...\n",
      "886       2    1  27.0\n",
      "887       1    0  19.0\n",
      "888       3    0  28.0\n",
      "889       1    1  26.0\n",
      "890       3    1  32.0\n",
      "\n",
      "[891 rows x 3 columns]\n"
     ]
    }
   ],
   "source": [
    "print(X) #the independent variables"
   ]
  },
  {
   "cell_type": "code",
   "execution_count": 112,
   "id": "c47585d9",
   "metadata": {},
   "outputs": [],
   "source": [
    "RANDOM_SEED = 420 #used to reproduce same data"
   ]
  },
  {
   "cell_type": "code",
   "execution_count": 113,
   "id": "c4e56b51",
   "metadata": {},
   "outputs": [],
   "source": [
    "#Doing a 70:30 split on the data for training and testing\n",
    "X_train, X_test, Y_train, Y_test = train_test_split(X, Y, test_size = .30, random_state = RANDOM_SEED)\n"
   ]
  },
  {
   "cell_type": "code",
   "execution_count": 168,
   "id": "5840b83c",
   "metadata": {},
   "outputs": [
    {
     "name": "stdout",
     "output_type": "stream",
     "text": [
      "Printing Independent Variables for training\n",
      "\n",
      "      Pclass  Sex   Age\n",
      "418       2    1  30.0\n",
      "814       3    1  30.5\n",
      "65        3    1  28.0\n",
      "749       3    1  31.0\n",
      "157       3    1  30.0\n",
      "..      ...  ...   ...\n",
      "627       1    0  21.0\n",
      "799       3    0  30.0\n",
      "575       3    1  19.0\n",
      "390       1    1  36.0\n",
      "72        2    1  21.0\n",
      "\n",
      "[623 rows x 3 columns]\n",
      "\n",
      "\n",
      "Printing Independent Variables for testing\n",
      "\n",
      "      Pclass  Sex   Age\n",
      "722       2    1  34.0\n",
      "885       3    0  39.0\n",
      "289       3    0  22.0\n",
      "131       3    1  20.0\n",
      "615       2    0  24.0\n",
      "..      ...  ...   ...\n",
      "195       1    0  58.0\n",
      "75        3    1  25.0\n",
      "793       1    1  28.0\n",
      "373       1    1  22.0\n",
      "60        3    1  22.0\n",
      "\n",
      "[268 rows x 3 columns]\n",
      "\n",
      "\n",
      "Printing Dependent variables for training\n",
      "\n",
      " 418    0\n",
      "814    0\n",
      "65     1\n",
      "749    0\n",
      "157    0\n",
      "      ..\n",
      "627    1\n",
      "799    0\n",
      "575    0\n",
      "390    1\n",
      "72     0\n",
      "Name: Survived, Length: 623, dtype: int64\n",
      "\n",
      "\n",
      "Printing Dependent variables for testing\n",
      "\n",
      " 722    0\n",
      "885    0\n",
      "289    1\n",
      "131    0\n",
      "615    1\n",
      "      ..\n",
      "195    1\n",
      "75     0\n",
      "793    0\n",
      "373    0\n",
      "60     0\n",
      "Name: Survived, Length: 268, dtype: int64\n"
     ]
    }
   ],
   "source": [
    "print(\"Printing Independent Variables for training\\n\\n\", X_train)\n",
    "\n",
    "print(\"\\n\\nPrinting Independent Variables for testing\\n\\n\", X_test)\n",
    "\n",
    "print(\"\\n\\nPrinting Dependent variables for training\\n\\n\", Y_train)\n",
    "\n",
    "print(\"\\n\\nPrinting Dependent variables for testing\\n\\n\", Y_test)"
   ]
  },
  {
   "cell_type": "code",
   "execution_count": 115,
   "id": "8866195d",
   "metadata": {},
   "outputs": [],
   "source": [
    "#######Instantiating logistic regression model#########\n",
    "\n",
    "logit_reg = LogisticRegression(random_state = RANDOM_SEED)"
   ]
  },
  {
   "cell_type": "code",
   "execution_count": 116,
   "id": "8b438952",
   "metadata": {},
   "outputs": [
    {
     "data": {
      "text/plain": [
       "LogisticRegression(random_state=420)"
      ]
     },
     "execution_count": 116,
     "metadata": {},
     "output_type": "execute_result"
    }
   ],
   "source": [
    "logit_reg.fit(X_train, Y_train)"
   ]
  },
  {
   "cell_type": "code",
   "execution_count": 117,
   "id": "5f4c2e81",
   "metadata": {},
   "outputs": [],
   "source": [
    "Y_pred = logit_reg.predict(X_test)"
   ]
  },
  {
   "cell_type": "code",
   "execution_count": 118,
   "id": "eb640873",
   "metadata": {},
   "outputs": [],
   "source": [
    "log_report = classification_report(Y_test, Y_pred)"
   ]
  },
  {
   "cell_type": "code",
   "execution_count": 119,
   "id": "5452b953",
   "metadata": {},
   "outputs": [
    {
     "name": "stdout",
     "output_type": "stream",
     "text": [
      "              precision    recall  f1-score   support\n",
      "\n",
      "           0       0.82      0.92      0.86       157\n",
      "           1       0.86      0.71      0.78       111\n",
      "\n",
      "    accuracy                           0.83       268\n",
      "   macro avg       0.84      0.81      0.82       268\n",
      "weighted avg       0.83      0.83      0.83       268\n",
      "\n"
     ]
    }
   ],
   "source": [
    "print(log_report) #classification"
   ]
  },
  {
   "cell_type": "code",
   "execution_count": 120,
   "id": "98ba90fe",
   "metadata": {},
   "outputs": [],
   "source": [
    "file = open(\"output_titanic.txt\", \"w\")\n",
    "file.write(\"Report for Logistic Regression is\\n {}: \".format(log_report))\n",
    "file.close()"
   ]
  },
  {
   "cell_type": "code",
   "execution_count": 121,
   "id": "8114bf73",
   "metadata": {},
   "outputs": [],
   "source": [
    "new_pred_cols = [\"Pclass\", \"Sex\", \"Age\"]"
   ]
  },
  {
   "cell_type": "code",
   "execution_count": 122,
   "id": "9e842d4f",
   "metadata": {},
   "outputs": [],
   "source": [
    "new_logistic_pred_df = test_df[new_pred_cols]"
   ]
  },
  {
   "cell_type": "code",
   "execution_count": 123,
   "id": "5b62ebca",
   "metadata": {},
   "outputs": [],
   "source": [
    "#predicting on the test_df\n",
    "new_predictions = logit_reg.predict(new_logistic_pred_df) "
   ]
  },
  {
   "cell_type": "code",
   "execution_count": 124,
   "id": "2327736b",
   "metadata": {},
   "outputs": [
    {
     "name": "stdout",
     "output_type": "stream",
     "text": [
      "418\n"
     ]
    }
   ],
   "source": [
    "print(len(new_predictions))\n"
   ]
  },
  {
   "cell_type": "code",
   "execution_count": 125,
   "id": "2db2a68b",
   "metadata": {},
   "outputs": [],
   "source": [
    "# reading the test data set again so that the new column can be written\n",
    "# into the csv \n",
    "\n",
    "titanic_test_df = pd.read_csv(\"titanic_test.csv\")"
   ]
  },
  {
   "cell_type": "code",
   "execution_count": 126,
   "id": "fdcc104a",
   "metadata": {},
   "outputs": [],
   "source": [
    "titanic_test_df[\"Label_LogisticRegression\"] = new_predictions #create a new column with preditions"
   ]
  },
  {
   "cell_type": "code",
   "execution_count": 127,
   "id": "5a8b2fcd",
   "metadata": {},
   "outputs": [],
   "source": [
    "titanic_test_df.to_csv(\"titanic_test.csv\")  #writing to the test csv"
   ]
  },
  {
   "cell_type": "code",
   "execution_count": 128,
   "id": "c7938bf7",
   "metadata": {},
   "outputs": [],
   "source": [
    "#############End of logistic Regression Model##########"
   ]
  },
  {
   "cell_type": "code",
   "execution_count": null,
   "id": "d431a502",
   "metadata": {},
   "outputs": [],
   "source": []
  },
  {
   "cell_type": "code",
   "execution_count": 129,
   "id": "e6aa022e",
   "metadata": {},
   "outputs": [],
   "source": [
    "#############RandomForest Classifier################################"
   ]
  },
  {
   "cell_type": "code",
   "execution_count": 130,
   "id": "8d55ddc9",
   "metadata": {},
   "outputs": [],
   "source": [
    "random_forest = RandomForestClassifier(random_state = RANDOM_SEED) #instantiate"
   ]
  },
  {
   "cell_type": "code",
   "execution_count": 131,
   "id": "69eb9a81",
   "metadata": {},
   "outputs": [
    {
     "data": {
      "text/plain": [
       "RandomForestClassifier(random_state=420)"
      ]
     },
     "execution_count": 131,
     "metadata": {},
     "output_type": "execute_result"
    }
   ],
   "source": [
    "random_forest.fit(X_train, Y_train)"
   ]
  },
  {
   "cell_type": "code",
   "execution_count": 132,
   "id": "510d394c",
   "metadata": {},
   "outputs": [],
   "source": [
    "RFpredictions = random_forest.predict(X_test)"
   ]
  },
  {
   "cell_type": "code",
   "execution_count": 133,
   "id": "df6f7f13",
   "metadata": {},
   "outputs": [],
   "source": [
    "RFMatrix = confusion_matrix(Y_test, RFpredictions)"
   ]
  },
  {
   "cell_type": "code",
   "execution_count": 134,
   "id": "82289227",
   "metadata": {},
   "outputs": [
    {
     "name": "stdout",
     "output_type": "stream",
     "text": [
      "Random Forest Confusion Matrix: \n",
      " [[141  16]\n",
      " [ 29  82]]\n"
     ]
    }
   ],
   "source": [
    "print(\"Random Forest Confusion Matrix: \\n {}\".format(RFMatrix))"
   ]
  },
  {
   "cell_type": "code",
   "execution_count": 135,
   "id": "58063078",
   "metadata": {},
   "outputs": [],
   "source": [
    "RF_report = classification_report(Y_test, RFpredictions)"
   ]
  },
  {
   "cell_type": "code",
   "execution_count": 136,
   "id": "0e403bf7",
   "metadata": {},
   "outputs": [
    {
     "name": "stdout",
     "output_type": "stream",
     "text": [
      "              precision    recall  f1-score   support\n",
      "\n",
      "           0       0.83      0.90      0.86       157\n",
      "           1       0.84      0.74      0.78       111\n",
      "\n",
      "    accuracy                           0.83       268\n",
      "   macro avg       0.83      0.82      0.82       268\n",
      "weighted avg       0.83      0.83      0.83       268\n",
      "\n"
     ]
    }
   ],
   "source": [
    "print(RF_report) #classification report for Random Forest"
   ]
  },
  {
   "cell_type": "code",
   "execution_count": 137,
   "id": "d45f395b",
   "metadata": {},
   "outputs": [],
   "source": [
    "file = open(\"output_titanic.txt\", \"a\")\n",
    "file.write(\"\\n\\nReport for Random Forest Classifier is\\n {}: \".format(RF_report))\n",
    "file.close()"
   ]
  },
  {
   "cell_type": "code",
   "execution_count": 138,
   "id": "7ccbb6da",
   "metadata": {},
   "outputs": [],
   "source": [
    "#using Pclass, Sex, Age to predict on test dataset\n",
    "new_RF_pred_df = test_df[new_pred_cols]  "
   ]
  },
  {
   "cell_type": "code",
   "execution_count": 139,
   "id": "4c04493d",
   "metadata": {},
   "outputs": [],
   "source": [
    "new_RF_predictions = random_forest.predict(new_RF_pred_df)"
   ]
  },
  {
   "cell_type": "code",
   "execution_count": 140,
   "id": "8d68303b",
   "metadata": {},
   "outputs": [
    {
     "name": "stdout",
     "output_type": "stream",
     "text": [
      "418\n",
      "[0 0 1 0 0 0 0 0 0 0 0 0 1 1 1 1 0 0 1 0 0 0 1 0 1 0 1 0 0 0 0 0 0 1 0 0 1\n",
      " 0 0 0 0 1 0 1 1 0 0 0 1 1 0 0 1 1 0 0 0 0 0 1 0 0 0 0 1 1 0 0 0 1 1 0 0 0\n",
      " 1 1 0 1 0 1 1 0 1 0 0 0 1 0 1 1 0 0 1 0 1 0 1 0 0 0 1 0 0 0 1 0 0 0 0 0 0\n",
      " 1 1 0 1 0 0 1 1 1 1 0 1 0 0 0 0 1 0 0 1 0 1 0 0 0 0 0 0 0 0 1 0 0 0 0 1 0\n",
      " 1 0 1 0 0 1 1 0 1 0 0 1 1 0 1 0 0 1 1 0 1 0 0 0 0 0 0 1 1 0 1 1 0 0 1 0 1\n",
      " 0 1 0 1 0 0 1 0 0 1 0 1 0 0 1 1 1 0 1 0 1 1 0 1 0 1 0 0 0 0 0 1 0 0 0 1 0\n",
      " 1 0 1 1 0 1 0 0 0 1 0 0 0 0 0 0 1 1 1 1 0 0 0 0 1 0 1 1 1 0 1 0 0 0 0 0 1\n",
      " 0 0 0 1 1 0 0 1 0 1 0 0 0 1 1 0 1 0 0 0 0 0 1 1 0 0 0 0 0 0 0 1 0 0 0 0 0\n",
      " 1 0 0 0 1 0 0 0 1 1 0 1 0 0 0 0 0 0 1 0 0 0 0 0 0 0 0 0 1 0 1 0 0 0 1 0 0\n",
      " 1 0 0 0 0 0 0 0 1 0 1 0 1 0 0 0 1 1 0 0 0 1 0 1 0 0 0 0 1 1 0 1 1 0 0 1 0\n",
      " 0 1 1 0 1 1 0 0 0 0 0 0 1 1 0 1 0 0 0 1 1 0 1 0 0 1 0 1 0 0 1 0 1 1 0 0 0\n",
      " 0 1 0 1 1 1 0 1 0 0 0]\n",
      "<class 'numpy.ndarray'>\n"
     ]
    }
   ],
   "source": [
    "#printing the length of new predictions; should be the same as\n",
    "#test data set\n",
    "print(len(new_RF_predictions))\n",
    "\n",
    "print(new_RF_predictions) #numpy array\n",
    "print(type(new_RF_predictions))"
   ]
  },
  {
   "cell_type": "code",
   "execution_count": 141,
   "id": "49b9a444",
   "metadata": {},
   "outputs": [],
   "source": [
    "#Read this separate DF so that it wouldn't conflict with the one used\n",
    "#logistic regression\n",
    "titanic_test_df_rf = pd.read_csv(\"titanic_test.csv\")"
   ]
  },
  {
   "cell_type": "code",
   "execution_count": 142,
   "id": "bb771cec",
   "metadata": {},
   "outputs": [],
   "source": [
    "#Added this column \n",
    "titanic_test_df_rf[\"Label_randomforest\"] = new_RF_predictions"
   ]
  },
  {
   "cell_type": "code",
   "execution_count": 143,
   "id": "ec3111d8",
   "metadata": {},
   "outputs": [],
   "source": [
    "titanic_test_df_rf.to_csv(\"titanic_test.csv\")"
   ]
  },
  {
   "cell_type": "code",
   "execution_count": null,
   "id": "92c0fd62",
   "metadata": {},
   "outputs": [],
   "source": [
    "#############End of Random Forest ML Model##########################"
   ]
  },
  {
   "cell_type": "code",
   "execution_count": null,
   "id": "360b71ed",
   "metadata": {},
   "outputs": [],
   "source": []
  },
  {
   "cell_type": "code",
   "execution_count": null,
   "id": "ef35b4bd",
   "metadata": {},
   "outputs": [],
   "source": [
    "######################SVM###########################"
   ]
  },
  {
   "cell_type": "code",
   "execution_count": 145,
   "id": "4df7d6c5",
   "metadata": {},
   "outputs": [],
   "source": [
    "svc = SVC(random_state=RANDOM_SEED)"
   ]
  },
  {
   "cell_type": "code",
   "execution_count": 146,
   "id": "4936e847",
   "metadata": {},
   "outputs": [
    {
     "data": {
      "text/plain": [
       "SVC(random_state=420)"
      ]
     },
     "execution_count": 146,
     "metadata": {},
     "output_type": "execute_result"
    }
   ],
   "source": [
    "svc.fit(X_train, Y_train)"
   ]
  },
  {
   "cell_type": "code",
   "execution_count": 147,
   "id": "e5535369",
   "metadata": {},
   "outputs": [],
   "source": [
    "svc_predictions = svc.predict(X_test)"
   ]
  },
  {
   "cell_type": "code",
   "execution_count": 148,
   "id": "9e74fc07",
   "metadata": {},
   "outputs": [],
   "source": [
    "SVCMatrix = confusion_matrix(Y_test, svc_predictions)"
   ]
  },
  {
   "cell_type": "code",
   "execution_count": 150,
   "id": "e1b2c235",
   "metadata": {},
   "outputs": [
    {
     "name": "stdout",
     "output_type": "stream",
     "text": [
      "Support Vector Machine Confusion Matrix is: \n",
      " [[153   4]\n",
      " [104   7]]\n"
     ]
    }
   ],
   "source": [
    "print(\"Support Vector Machine Confusion Matrix is: \\n {}\" .format(SVCMatrix))"
   ]
  },
  {
   "cell_type": "code",
   "execution_count": 151,
   "id": "b74de211",
   "metadata": {},
   "outputs": [],
   "source": [
    "SVC_report = classification_report(Y_test, svc_predictions)"
   ]
  },
  {
   "cell_type": "code",
   "execution_count": 152,
   "id": "a6088b76",
   "metadata": {},
   "outputs": [
    {
     "name": "stdout",
     "output_type": "stream",
     "text": [
      "              precision    recall  f1-score   support\n",
      "\n",
      "           0       0.60      0.97      0.74       157\n",
      "           1       0.64      0.06      0.11       111\n",
      "\n",
      "    accuracy                           0.60       268\n",
      "   macro avg       0.62      0.52      0.43       268\n",
      "weighted avg       0.61      0.60      0.48       268\n",
      "\n"
     ]
    }
   ],
   "source": [
    "print(SVC_report)"
   ]
  },
  {
   "cell_type": "code",
   "execution_count": 153,
   "id": "3dc1fb55",
   "metadata": {},
   "outputs": [],
   "source": [
    "file = open(\"output_titanic.txt\", \"a\")\n",
    "file.write(\"\\n\\nReport for Support Vector Machine is\\n {}: \".format(SVC_report))\n",
    "file.close()"
   ]
  },
  {
   "cell_type": "code",
   "execution_count": 155,
   "id": "31141710",
   "metadata": {},
   "outputs": [],
   "source": [
    "#using Pclass, Sex, Age to predict on test dataset\n",
    "new_SVC_df = test_df[new_pred_cols]  "
   ]
  },
  {
   "cell_type": "code",
   "execution_count": 157,
   "id": "9cc538dc",
   "metadata": {},
   "outputs": [],
   "source": [
    "new_SVC_predictions = svc.predict(new_SVC_df)"
   ]
  },
  {
   "cell_type": "code",
   "execution_count": 158,
   "id": "c31f9213",
   "metadata": {},
   "outputs": [
    {
     "name": "stdout",
     "output_type": "stream",
     "text": [
      "418\n",
      "[0 0 0 0 0 0 0 0 0 0 0 0 0 0 0 0 0 0 0 0 0 0 0 0 0 0 0 0 0 0 0 0 0 0 0 0 0\n",
      " 0 0 0 0 0 0 0 0 0 0 0 0 0 0 0 0 0 0 0 0 0 0 0 0 0 0 0 0 0 0 0 0 0 0 0 0 0\n",
      " 0 0 0 0 0 0 1 0 0 0 0 0 0 0 0 1 0 0 0 0 0 0 0 0 0 0 0 0 0 0 0 0 0 0 0 0 0\n",
      " 0 0 0 0 0 0 1 0 0 0 0 0 0 0 0 0 0 0 0 0 0 0 0 0 0 0 0 0 0 0 0 0 0 0 0 0 0\n",
      " 0 0 0 0 0 0 0 0 0 0 0 0 0 1 0 0 0 0 0 0 0 0 0 0 0 0 0 0 0 0 0 0 0 0 0 0 0\n",
      " 0 0 0 0 0 0 0 0 0 1 0 1 0 0 0 0 1 0 1 0 0 0 0 0 0 0 0 0 0 0 0 0 0 0 0 0 0\n",
      " 0 0 0 0 0 0 0 0 0 0 0 0 0 0 0 0 0 0 0 0 0 0 0 0 0 0 0 0 1 0 0 0 0 0 0 0 0\n",
      " 0 0 0 0 1 0 0 0 0 0 0 0 0 0 0 0 0 0 0 0 0 0 1 0 0 1 0 0 0 0 0 0 0 0 0 0 0\n",
      " 1 0 0 0 0 0 0 0 0 0 0 1 0 0 0 0 0 0 0 0 0 0 0 0 0 0 0 0 0 0 0 0 0 0 0 0 0\n",
      " 0 0 0 0 0 0 0 0 0 0 0 0 0 0 0 0 0 0 0 0 0 1 0 0 0 0 0 0 0 0 0 0 0 0 0 0 0\n",
      " 0 0 0 0 0 0 0 0 0 1 0 0 0 0 0 0 0 0 0 1 0 0 0 0 0 0 0 0 0 0 0 0 0 0 0 0 0\n",
      " 0 0 1 0 0 0 0 0 0 0 0]\n",
      "<class 'numpy.ndarray'>\n"
     ]
    }
   ],
   "source": [
    "print(len(new_SVC_predictions))\n",
    "\n",
    "print(new_SVC_predictions) #numpy array\n",
    "print(type(new_SVC_predictions))"
   ]
  },
  {
   "cell_type": "code",
   "execution_count": 162,
   "id": "2754c0fe",
   "metadata": {},
   "outputs": [],
   "source": [
    "titanic_test_df_svc = pd.read_csv(\"titanic_test.csv\")"
   ]
  },
  {
   "cell_type": "code",
   "execution_count": 163,
   "id": "97f51343",
   "metadata": {},
   "outputs": [],
   "source": [
    "titanic_test_df_svc[\"Label_SVM\"] = new_SVC_predictions"
   ]
  },
  {
   "cell_type": "code",
   "execution_count": 165,
   "id": "8ac0fc0d",
   "metadata": {},
   "outputs": [],
   "source": [
    "titanic_test_df_svc.to_csv(\"titanic_test.csv\")"
   ]
  },
  {
   "cell_type": "code",
   "execution_count": null,
   "id": "cbe6f2d8",
   "metadata": {},
   "outputs": [],
   "source": []
  }
 ],
 "metadata": {
  "kernelspec": {
   "display_name": "Python 3 (ipykernel)",
   "language": "python",
   "name": "python3"
  },
  "language_info": {
   "codemirror_mode": {
    "name": "ipython",
    "version": 3
   },
   "file_extension": ".py",
   "mimetype": "text/x-python",
   "name": "python",
   "nbconvert_exporter": "python",
   "pygments_lexer": "ipython3",
   "version": "3.9.15"
  }
 },
 "nbformat": 4,
 "nbformat_minor": 5
}
